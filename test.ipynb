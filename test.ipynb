{
 "cells": [
  {
   "cell_type": "markdown",
   "id": "cb0244be",
   "metadata": {},
   "source": [
    "# Import pandas\n"
   ]
  },
  {
   "cell_type": "code",
   "execution_count": 1,
   "id": "ca6c1429",
   "metadata": {},
   "outputs": [
    {
     "name": "stdout",
     "output_type": "stream",
     "text": [
      "1.4.4\n"
     ]
    }
   ],
   "source": [
    "import pandas as pd\n",
    "print(pd.__version__)"
   ]
  },
  {
   "cell_type": "markdown",
   "id": "50fecd09",
   "metadata": {},
   "source": [
    "# 2 different colours"
   ]
  },
  {
   "cell_type": "code",
   "execution_count": 3,
   "id": "352e9b9b",
   "metadata": {},
   "outputs": [],
   "source": [
    "colours = pd.Series([\"green\", \"black\", \"red\"])"
   ]
  },
  {
   "cell_type": "code",
   "execution_count": 4,
   "id": "c73d1c87",
   "metadata": {},
   "outputs": [
    {
     "name": "stdout",
     "output_type": "stream",
     "text": [
      "0    green\n",
      "1    black\n",
      "2      red\n",
      "dtype: object\n"
     ]
    }
   ],
   "source": [
    "print(colours)"
   ]
  },
  {
   "cell_type": "markdown",
   "id": "62cc70c3",
   "metadata": {},
   "source": [
    "# 3 different colour"
   ]
  },
  {
   "cell_type": "code",
   "execution_count": 6,
   "id": "18f21e85",
   "metadata": {},
   "outputs": [],
   "source": [
    "a = ([\"red\"])"
   ]
  },
  {
   "cell_type": "code",
   "execution_count": 7,
   "id": "7fe24182",
   "metadata": {},
   "outputs": [],
   "source": [
    "b = ([\"black\"])"
   ]
  },
  {
   "cell_type": "code",
   "execution_count": 8,
   "id": "47fd7709",
   "metadata": {},
   "outputs": [],
   "source": [
    "c = ([\"green\"])"
   ]
  },
  {
   "cell_type": "code",
   "execution_count": 15,
   "id": "788b2635",
   "metadata": {},
   "outputs": [
    {
     "name": "stdout",
     "output_type": "stream",
     "text": [
      "['red'] ['black'] ['green']\n"
     ]
    }
   ],
   "source": [
    "print(a,b,c)"
   ]
  },
  {
   "cell_type": "markdown",
   "id": "2383044e",
   "metadata": {},
   "source": [
    "# 4  different car"
   ]
  },
  {
   "cell_type": "code",
   "execution_count": 16,
   "id": "37758e74",
   "metadata": {},
   "outputs": [],
   "source": [
    "cars = pd.Series([\"BMW\", \"Toyota\", \"Honda\"])"
   ]
  },
  {
   "cell_type": "code",
   "execution_count": 14,
   "id": "01a0cf0b",
   "metadata": {},
   "outputs": [
    {
     "name": "stdout",
     "output_type": "stream",
     "text": [
      "0       BMW\n",
      "1    Toyota\n",
      "2     Honda\n",
      "dtype: object\n"
     ]
    }
   ],
   "source": [
    "print(cars)"
   ]
  },
  {
   "cell_type": "markdown",
   "id": "f809e7bd",
   "metadata": {},
   "source": [
    "# 5 different car & colour"
   ]
  },
  {
   "cell_type": "code",
   "execution_count": 31,
   "id": "2635adad",
   "metadata": {},
   "outputs": [
    {
     "ename": "SyntaxError",
     "evalue": "invalid syntax (1948109468.py, line 1)",
     "output_type": "error",
     "traceback": [
      "\u001b[1;36m  File \u001b[1;32m\"C:\\Users\\Administrator\\AppData\\Local\\Temp\\ipykernel_16632\\1948109468.py\"\u001b[1;36m, line \u001b[1;32m1\u001b[0m\n\u001b[1;33m    cars = pd.Dataframe({cars type:\"cars\"})_({colours type:\"colours\"})\u001b[0m\n\u001b[1;37m                              ^\u001b[0m\n\u001b[1;31mSyntaxError\u001b[0m\u001b[1;31m:\u001b[0m invalid syntax\n"
     ]
    }
   ],
   "source": [
    "cars = pd.Dataframe({cars type:\"cars\"})_({colours type:\"colours\"})"
   ]
  },
  {
   "cell_type": "code",
   "execution_count": 32,
   "id": "f424ad82",
   "metadata": {},
   "outputs": [
    {
     "name": "stdout",
     "output_type": "stream",
     "text": [
      "0       BMW\n",
      "1    Toyota\n",
      "2     Honda\n",
      "dtype: object 0    green\n",
      "1    black\n",
      "2      red\n",
      "dtype: object\n"
     ]
    }
   ],
   "source": [
    "print(cars,colours)"
   ]
  },
  {
   "cell_type": "markdown",
   "id": "f0faa673",
   "metadata": {},
   "source": [
    "# Import \"../data/car-sales.csv\" and turn it into a DataFrame\n"
   ]
  },
  {
   "cell_type": "code",
   "execution_count": 53,
   "id": "92db8d38",
   "metadata": {},
   "outputs": [],
   "source": [
    "import pandas as pd"
   ]
  },
  {
   "cell_type": "code",
   "execution_count": 55,
   "id": "7557f785",
   "metadata": {},
   "outputs": [],
   "source": [
    "DataFrame =pd.read_csv(\"C:/Users/Administrator/Desktop/mbcet_project_main/mbcet_project_main/car_sales.csv\")"
   ]
  },
  {
   "cell_type": "code",
   "execution_count": 58,
   "id": "e20f2a4b",
   "metadata": {},
   "outputs": [
    {
     "data": {
      "text/html": [
       "<div>\n",
       "<style scoped>\n",
       "    .dataframe tbody tr th:only-of-type {\n",
       "        vertical-align: middle;\n",
       "    }\n",
       "\n",
       "    .dataframe tbody tr th {\n",
       "        vertical-align: top;\n",
       "    }\n",
       "\n",
       "    .dataframe thead th {\n",
       "        text-align: right;\n",
       "    }\n",
       "</style>\n",
       "<table border=\"1\" class=\"dataframe\">\n",
       "  <thead>\n",
       "    <tr style=\"text-align: right;\">\n",
       "      <th></th>\n",
       "      <th>Make</th>\n",
       "      <th>Colour</th>\n",
       "      <th>Odometer (KM)</th>\n",
       "      <th>Doors</th>\n",
       "      <th>Price</th>\n",
       "    </tr>\n",
       "  </thead>\n",
       "  <tbody>\n",
       "    <tr>\n",
       "      <th>0</th>\n",
       "      <td>Toyota</td>\n",
       "      <td>White</td>\n",
       "      <td>150043</td>\n",
       "      <td>4</td>\n",
       "      <td>$4,000.00</td>\n",
       "    </tr>\n",
       "    <tr>\n",
       "      <th>1</th>\n",
       "      <td>Honda</td>\n",
       "      <td>Red</td>\n",
       "      <td>87899</td>\n",
       "      <td>4</td>\n",
       "      <td>$5,000.00</td>\n",
       "    </tr>\n",
       "    <tr>\n",
       "      <th>2</th>\n",
       "      <td>Toyota</td>\n",
       "      <td>Blue</td>\n",
       "      <td>32549</td>\n",
       "      <td>3</td>\n",
       "      <td>$7,000.00</td>\n",
       "    </tr>\n",
       "    <tr>\n",
       "      <th>3</th>\n",
       "      <td>BMW</td>\n",
       "      <td>Black</td>\n",
       "      <td>11179</td>\n",
       "      <td>5</td>\n",
       "      <td>$22,000.00</td>\n",
       "    </tr>\n",
       "    <tr>\n",
       "      <th>4</th>\n",
       "      <td>Nissan</td>\n",
       "      <td>White</td>\n",
       "      <td>213095</td>\n",
       "      <td>4</td>\n",
       "      <td>$3,500.00</td>\n",
       "    </tr>\n",
       "  </tbody>\n",
       "</table>\n",
       "</div>"
      ],
      "text/plain": [
       "     Make Colour  Odometer (KM)  Doors       Price\n",
       "0  Toyota  White         150043      4   $4,000.00\n",
       "1   Honda    Red          87899      4   $5,000.00\n",
       "2  Toyota   Blue          32549      3   $7,000.00\n",
       "3     BMW  Black          11179      5  $22,000.00\n",
       "4  Nissan  White         213095      4   $3,500.00"
      ]
     },
     "execution_count": 58,
     "metadata": {},
     "output_type": "execute_result"
    }
   ],
   "source": [
    "DataFrame.head()"
   ]
  },
  {
   "cell_type": "markdown",
   "id": "be7a98a3",
   "metadata": {},
   "source": [
    "# Export the DataFrame you created to a .csv file\n"
   ]
  },
  {
   "cell_type": "code",
   "execution_count": 64,
   "id": "a17a85f4",
   "metadata": {},
   "outputs": [],
   "source": [
    "DataFrame=pd.read_csv(\"C:\\\\Users\\\\Administrator\\Downloads\\\\my data set.csv\")"
   ]
  },
  {
   "cell_type": "code",
   "execution_count": 65,
   "id": "201830a2",
   "metadata": {},
   "outputs": [
    {
     "name": "stdout",
     "output_type": "stream",
     "text": [
      "   sl  test name  no\n",
      "0   1    55    a  82\n",
      "1   2    35    m  29\n",
      "2   3    85    d  33\n",
      "3   4    15    f  24\n",
      "4   5    25    e  89\n"
     ]
    }
   ],
   "source": [
    "print(DataFrame)"
   ]
  },
  {
   "cell_type": "code",
   "execution_count": 66,
   "id": "f4436e18",
   "metadata": {},
   "outputs": [],
   "source": [
    "DataFrame = pd.Series([\"sl\", \"test\", \"no\",\"name\"])"
   ]
  },
  {
   "cell_type": "code",
   "execution_count": 67,
   "id": "b7614103",
   "metadata": {},
   "outputs": [
    {
     "name": "stdout",
     "output_type": "stream",
     "text": [
      "0      sl\n",
      "1    test\n",
      "2      no\n",
      "3    name\n",
      "dtype: object\n"
     ]
    }
   ],
   "source": [
    "print(DataFrame)"
   ]
  },
  {
   "cell_type": "code",
   "execution_count": 70,
   "id": "aa3de07c",
   "metadata": {},
   "outputs": [],
   "source": [
    "table =pd.read_csv(\"C:\\\\Users\\\\Administrator\\Downloads\\\\my data set.csv\")\n",
    "table = pd.Series([\"C:\\\\Users\\\\Administrator\\Downloads\\\\my data set.csv\"])"
   ]
  },
  {
   "cell_type": "code",
   "execution_count": 71,
   "id": "7e892499",
   "metadata": {},
   "outputs": [
    {
     "ename": "NameError",
     "evalue": "name 'test' is not defined",
     "output_type": "error",
     "traceback": [
      "\u001b[1;31m---------------------------------------------------------------------------\u001b[0m",
      "\u001b[1;31mNameError\u001b[0m                                 Traceback (most recent call last)",
      "\u001b[1;32m~\\AppData\\Local\\Temp\\ipykernel_16632\\4001317122.py\u001b[0m in \u001b[0;36m<module>\u001b[1;34m\u001b[0m\n\u001b[1;32m----> 1\u001b[1;33m \u001b[0mprint\u001b[0m\u001b[1;33m(\u001b[0m\u001b[0mtest\u001b[0m\u001b[1;33m)\u001b[0m\u001b[1;33m\u001b[0m\u001b[1;33m\u001b[0m\u001b[0m\n\u001b[0m",
      "\u001b[1;31mNameError\u001b[0m: name 'test' is not defined"
     ]
    }
   ],
   "source": [
    "print(test)"
   ]
  },
  {
   "cell_type": "code",
   "execution_count": null,
   "id": "be31bc0e",
   "metadata": {},
   "outputs": [],
   "source": []
  }
 ],
 "metadata": {
  "kernelspec": {
   "display_name": "Python 3 (ipykernel)",
   "language": "python",
   "name": "python3"
  },
  "language_info": {
   "codemirror_mode": {
    "name": "ipython",
    "version": 3
   },
   "file_extension": ".py",
   "mimetype": "text/x-python",
   "name": "python",
   "nbconvert_exporter": "python",
   "pygments_lexer": "ipython3",
   "version": "3.9.13"
  }
 },
 "nbformat": 4,
 "nbformat_minor": 5
}
